{
 "cells": [
  {
   "cell_type": "markdown",
   "id": "d6b01ba6-9995-4a3f-85d0-82da9b23b808",
   "metadata": {},
   "source": [
    "# Beatriz Balan Fiuza"
   ]
  },
  {
   "cell_type": "code",
   "execution_count": 72,
   "id": "96e6f62b-51e5-48c5-ae12-dc5d9db118a7",
   "metadata": {},
   "outputs": [],
   "source": [
    "import pandas as pd\n",
    "from sklearn.preprocessing import LabelEncoder\n",
    "from imblearn.over_sampling import SMOTE"
   ]
  },
  {
   "cell_type": "code",
   "execution_count": 73,
   "id": "21f776ec-c3fe-4e82-9020-cfd87e512d90",
   "metadata": {},
   "outputs": [],
   "source": [
    "dataframe = pd.read_csv(\"DATASET STROKES DATOS LIMPIOS.csv\", sep=\";\")\n",
    "dataframe = dataframe.dropna()"
   ]
  },
  {
   "cell_type": "code",
   "execution_count": 74,
   "id": "b70f49a1-fbd3-42e9-b2ff-c35a9f30ee6c",
   "metadata": {},
   "outputs": [],
   "source": [
    "label_encoder = LabelEncoder()\n",
    "for column in dataframe.select_dtypes(include=['object']).columns:\n",
    "    dataframe[column] = label_encoder.fit_transform(dataframe[column])"
   ]
  },
  {
   "cell_type": "code",
   "execution_count": 75,
   "id": "0f5292bb-f526-4330-b574-432e465d334d",
   "metadata": {},
   "outputs": [],
   "source": [
    "y = dataframe[\"Stroke\"]\n",
    "x = dataframe.drop(\"Stroke\", axis=1)"
   ]
  },
  {
   "cell_type": "code",
   "execution_count": 76,
   "id": "0869c84a-bc46-4f76-9f90-0d567289c932",
   "metadata": {},
   "outputs": [],
   "source": [
    "smote = SMOTE(random_state=42)\n",
    "x_resampled, y_resampled = smote.fit_resample(x, y)"
   ]
  },
  {
   "cell_type": "code",
   "execution_count": 77,
   "id": "4212206a-6a1f-488b-96a6-48d363231d34",
   "metadata": {},
   "outputs": [],
   "source": [
    "df_balanceado = pd.DataFrame(x_resampled, columns=x.columns)\n",
    "df_balanceado[\"Stroke\"] = y_resampled\n",
    "df_balanceado.to_csv(\"DATASET_STROKES_BALANCEADO.csv\", sep=\";\", index=False)"
   ]
  },
  {
   "cell_type": "code",
   "execution_count": null,
   "id": "a9bf05c2-223e-4416-aba8-7e77f0772b81",
   "metadata": {},
   "outputs": [],
   "source": []
  }
 ],
 "metadata": {
  "kernelspec": {
   "display_name": "Python [conda env:base] *",
   "language": "python",
   "name": "conda-base-py"
  },
  "language_info": {
   "codemirror_mode": {
    "name": "ipython",
    "version": 3
   },
   "file_extension": ".py",
   "mimetype": "text/x-python",
   "name": "python",
   "nbconvert_exporter": "python",
   "pygments_lexer": "ipython3",
   "version": "3.12.7"
  }
 },
 "nbformat": 4,
 "nbformat_minor": 5
}
